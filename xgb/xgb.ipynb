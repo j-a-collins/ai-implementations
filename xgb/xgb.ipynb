{
 "cells": [
  {
   "cell_type": "markdown",
   "id": "fc872512",
   "metadata": {},
   "source": [
    "xgb"
   ]
  },
  {
   "cell_type": "code",
   "execution_count": null,
   "id": "311435ce",
   "metadata": {},
   "outputs": [],
   "source": [
    "import configparser\n",
    "\n",
    "import numpy as np, xgboost as xgb, pandas as pd, modin.pandas as md\n",
    "import snowflake.snowpark.modin.plugin\n",
    "from skopt import gp_minimize\n",
    "from skopt.space import Real, Integer, Categorical\n",
    "from skopt.utils import use_named_args\n",
    "\n",
    "from xgboost_helpers import (\n",
    "    load_data,\n",
    "    split_numeric_categorical,\n",
    "    build_dmatrix,\n",
    "    OrdinalEncoder,\n",
    "    NumericImputerArbitrary,\n",
    "    RichProgressBarCallback,\n",
    ")\n",
    "\n",
    "from snowflake.snowpark.context import get_active_session\n",
    "np.int = int\n",
    "session = get_active_session()\n",
    "session.use_schema(\"ML_AUTOMATION\")"
   ]
  },
  {
   "cell_type": "code",
   "execution_count": null,
   "id": "2c4e5d42",
   "metadata": {},
   "outputs": [],
   "source": [
    "config_file = (r\"confin.ini\")\n",
    "config = configparser.ConfigParser()\n",
    "config.read(config_file)"
   ]
  },
  {
   "cell_type": "code",
   "execution_count": null,
   "id": "7962c7de",
   "metadata": {},
   "outputs": [],
   "source": [
    "df_train = md.read_snowflake(name_or_query=config[\"PATHS\"].get(\"train\", \"\"))\n",
    "df_test = md.read_snowflake(name_or_query=config[\"PATHS\"].get(\"test\", \"\"))"
   ]
  },
  {
   "cell_type": "code",
   "execution_count": null,
   "id": "79fbfb1e",
   "metadata": {},
   "outputs": [],
   "source": [
    "y_col = config[\"VARIABLES\"].get(\"y_col\", \"\")\n",
    "identifier_str = config[\"VARIABLES\"].get(\"identifier_cols\", \"\")\n",
    "identifier_cols = [col.strip() for col in identifier_str.split(\",\") if col.strip()]\n",
    "df_identifiers = [c for c in df_train.columns if c in identifier_cols]\n",
    "df_test_identifiers = [c for c in df_test.columns if c in identifier_cols]\n",
    "df_test_identifiers = df_test[df_test_identifiers].copy()"
   ]
  },
  {
   "cell_type": "code",
   "execution_count": null,
   "id": "c9fd9be7",
   "metadata": {},
   "outputs": [],
   "source": [
    "modelling_features = [\n",
    "    'a',\n",
    "    'b',\n",
    "    'c'\n",
    "]"
   ]
  },
  {
   "cell_type": "markdown",
   "id": "41802207",
   "metadata": {},
   "source": [
    "preprocessing"
   ]
  },
  {
   "cell_type": "code",
   "execution_count": null,
   "id": "b9600335",
   "metadata": {},
   "outputs": [],
   "source": [
    "valid = [feature for feature in modelling_features if feature in df_train.columns]"
   ]
  },
  {
   "cell_type": "code",
   "execution_count": null,
   "id": "5c33a8ed",
   "metadata": {},
   "outputs": [],
   "source": [
    "y_col = df_train[y_col].copy()\n",
    "df_train = df_train.loc[:, valid]"
   ]
  },
  {
   "cell_type": "code",
   "execution_count": null,
   "id": "c6e40a05",
   "metadata": {},
   "outputs": [],
   "source": [
    "num_feats, cat_feats = split_numeric_categorical(df_train, valid)"
   ]
  },
  {
   "cell_type": "code",
   "execution_count": null,
   "id": "3f1fb47f",
   "metadata": {},
   "outputs": [],
   "source": [
    "from sklearn.compose import ColumnTransformer"
   ]
  },
  {
   "cell_type": "code",
   "execution_count": null,
   "id": "703a1436",
   "metadata": {},
   "outputs": [],
   "source": [
    "preprocessor = ColumnTransformer(\n",
    "    [\n",
    "        (\"cat\", OrdinalEncoder(columns=cat_feats, method=\"freq\"), cat_feats),\n",
    "        (\"num\", NumericImputerArbitrary(), num_feats),\n",
    "    ]\n",
    ")"
   ]
  },
  {
   "cell_type": "code",
   "execution_count": null,
   "id": "f67d89de",
   "metadata": {},
   "outputs": [],
   "source": [
    "df_train = df_train._to_pandas()\n",
    "df_test = df_test._to_pandas()"
   ]
  },
  {
   "cell_type": "code",
   "execution_count": null,
   "id": "35bb10f6",
   "metadata": {},
   "outputs": [],
   "source": [
    "preprocessor.fit(df_train)"
   ]
  },
  {
   "cell_type": "code",
   "execution_count": null,
   "id": "5f1b6430",
   "metadata": {},
   "outputs": [],
   "source": [
    "X_train_transformed = preprocessor.transform(df_train)\n",
    "X_test_transformed = preprocessor.transform(df_test)"
   ]
  },
  {
   "cell_type": "code",
   "execution_count": null,
   "id": "0405f7d7",
   "metadata": {},
   "outputs": [],
   "source": [
    "X_train_transformed_df = pd.DataFrame(\n",
    "    X_train_transformed, columns=num_feats + cat_feats\n",
    ")"
   ]
  },
  {
   "cell_type": "code",
   "execution_count": null,
   "id": "a904c295",
   "metadata": {},
   "outputs": [],
   "source": [
    "df_train = pd.DataFrame(\n",
    "    X_train_transformed, columns=X_train_transformed_df.columns, index=df_train.index\n",
    ")\n",
    "df_test = pd.DataFrame(X_test_transformed, columns=X_train_transformed_df.columns, index=df_test.index)"
   ]
  },
  {
   "cell_type": "markdown",
   "id": "24dc6c06",
   "metadata": {},
   "source": [
    "## modelling"
   ]
  },
  {
   "cell_type": "code",
   "execution_count": null,
   "id": "cca9e8f7",
   "metadata": {},
   "outputs": [],
   "source": [
    "# Access sections\n",
    "params = config[\"PARAMS\"]\n",
    "\n",
    "# Build the search space\n",
    "search_space = [\n",
    "    Integer(4, 7, name=\"max_depth\"),\n",
    "    Real(0.1, 0.2, prior=\"log-uniform\", name=\"eta\"),  # eta == learning_rate\n",
    "    Real(0.5, 1.0, prior=\"uniform\", name=\"subsample\"),\n",
    "    Real(0.0, 10.0, prior=\"uniform\", name=\"reg_alpha\"),\n",
    "    Real(0.0, 10.0, prior=\"uniform\", name=\"reg_lambda\"),\n",
    "    Integer(500, 3000, name=\"n_estimators\"),\n",
    "    Real(0.0, 1.0, prior=\"uniform\", name=\"colsample_bytree\"),\n",
    "    Categorical([\"hist\", \"approx\", \"gpu_hist\"], name=\"tree_method\"),\n",
    "]\n",
    "\n",
    "# or read direct from config\n",
    "default_params = {\n",
    "    k: eval(v) if v.replace(\".\", \"\", 1).isdigit() else v\n",
    "    for k, v in params.items()\n",
    "}\n",
    "\n",
    "print(\"default params loaded:\")\n",
    "for k, v in default_params.items():\n",
    "    print(f\"{k}: {v}\")\n",
    "\n",
    "print(\"\\nsearch space:\")\n",
    "for p in search_space:\n",
    "    print(p)"
   ]
  },
  {
   "cell_type": "code",
   "execution_count": null,
   "id": "80848d6f",
   "metadata": {},
   "outputs": [],
   "source": [
    "@use_named_args(search_space)\n",
    "def objective(**params_opt):\n",
    "    xgb_params = {\n",
    "        \"objective\": config[\"PARAMS\"].get(\"objective\"),\n",
    "        \"eta\": params_opt[\"learning_rate\"],\n",
    "        \"max_depth\": params_opt[\"max_depth\"]\n",
    "    }\n",
    "\n",
    "    dtrain_cv = build_dmatrix(df_train, y_col)\n",
    "    cv_results = xgb.cv(\n",
    "        params=xgb_params,\n",
    "        dtrain=dtrain_cv,\n",
    "        num_boost_round=params_opt[\"n_estimators\"],\n",
    "        nfold=3,\n",
    "        metrics=(\"rmse\"),\n",
    "        early_stopping_rounds=20,\n",
    "        verbose_eval=True,\n",
    "        seed=42,\n",
    "    )\n",
    "    return cv_results[\"test-rmse-mean\"].min()"
   ]
  },
  {
   "cell_type": "code",
   "execution_count": null,
   "id": "81390a1b",
   "metadata": {},
   "outputs": [],
   "source": [
    "result = gp_minimize(objective, search_space, n_calls=30, random_state=42)"
   ]
  },
  {
   "cell_type": "code",
   "execution_count": null,
   "id": "98858dea",
   "metadata": {},
   "outputs": [],
   "source": [
    "print(\"best hyperparameters:\")\n",
    "for name, val in zip([dim.name for dim in search_space], result.x):\n",
    "    print(f\"{name}: {val}\")"
   ]
  },
  {
   "cell_type": "code",
   "execution_count": null,
   "id": "9d9059e0",
   "metadata": {},
   "outputs": [],
   "source": [
    "params = {}\n",
    "params_section = config[\"PARAMS\"]"
   ]
  },
  {
   "cell_type": "code",
   "execution_count": null,
   "id": "9b78803c",
   "metadata": {},
   "outputs": [],
   "source": [
    "n_estimators = params_section.getint(\"n_estimators\", 2254)"
   ]
  },
  {
   "cell_type": "code",
   "execution_count": null,
   "id": "a160f44f",
   "metadata": {},
   "outputs": [],
   "source": [
    "dtrain = build_dmatrix(df_train, y_col)\n",
    "rich_callback = RichProgressBarCallback(total_rounds=n_estimators)"
   ]
  },
  {
   "cell_type": "markdown",
   "id": "89884ed7",
   "metadata": {},
   "source": [
    "## final model training"
   ]
  },
  {
   "cell_type": "code",
   "execution_count": null,
   "id": "8cafff80",
   "metadata": {},
   "outputs": [],
   "source": [
    "print(\"training...\")\n",
    "model = xgb.train(\n",
    "    params, dtrain, num_boost_round=n_estimators, callbacks=[rich_callback]\n",
    ")\n",
    "print(\"train complete\")"
   ]
  },
  {
   "cell_type": "markdown",
   "id": "bc9a5b34",
   "metadata": {},
   "source": [
    "## score"
   ]
  },
  {
   "cell_type": "code",
   "execution_count": null,
   "id": "e5d63a5a",
   "metadata": {},
   "outputs": [],
   "source": [
    "dtest = build_dmatrix(df_test, None)"
   ]
  },
  {
   "cell_type": "code",
   "execution_count": null,
   "id": "d763d7ff",
   "metadata": {},
   "outputs": [],
   "source": [
    "preds = model.predict(dtest)"
   ]
  },
  {
   "cell_type": "code",
   "execution_count": null,
   "id": "9269e3c2",
   "metadata": {},
   "outputs": [],
   "source": [
    "results = df_test_identifiers.copy()\n",
    "results[\"prediction\"] = preds\n",
    "output_path = config[\"PATHS\"].get(\"predictions_csv\", \"xgb_test_predictions.csv\")\n",
    "results.to_csv(output_path, index=False)"
   ]
  },
  {
   "cell_type": "code",
   "execution_count": null,
   "id": "41d01edd",
   "metadata": {},
   "outputs": [],
   "source": [
    "output = session.write_pandas(results, \"snowpark_jc\", auto_create_table=True, table_type=\"transient\")"
   ]
  }
 ],
 "metadata": {
  "kernelspec": {
   "display_name": "ai_venv",
   "language": "python",
   "name": "python3"
  },
  "language_info": {
   "name": "python",
   "version": "3.11.14"
  }
 },
 "nbformat": 4,
 "nbformat_minor": 5
}
