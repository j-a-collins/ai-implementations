{
 "cells": [
  {
   "cell_type": "markdown",
   "metadata": {},
   "source": [
    "### Adds two-digit numbers with a transformer\n",
    "##### @jacollins\n",
    "Warning! Work in progess!"
   ]
  },
  {
   "cell_type": "code",
   "execution_count": 1,
   "metadata": {},
   "outputs": [],
   "source": [
    "import random\n",
    "import numpy as np\n",
    "import tensorflow as tf\n",
    "from tensorflow import keras\n",
    "from tensorflow.keras import layers"
   ]
  },
  {
   "cell_type": "markdown",
   "metadata": {},
   "source": [
    "##### From the keras text classification with transform"
   ]
  },
  {
   "cell_type": "code",
   "execution_count": 2,
   "metadata": {},
   "outputs": [],
   "source": [
    "# https://keras.io/examples/nlp/text_classification_with_transformer/\n",
    "\n",
    "class MultiHeadSelfAttention(layers.Layer):\n",
    "  def __init__(self, embed_dim, num_heads = 8):\n",
    "    super(MultiHeadSelfAttention, self).__init__()\n",
    "    self.embed_dim = embed_dim\n",
    "    self.num_heads = num_heads\n",
    "    assert embed_dim % num_heads == 0\n",
    "    self.projection_dim = embed_dim // num_heads\n",
    "    self.query_dense = layers.Dense(embed_dim)\n",
    "    self.key_dense = layers.Dense(embed_dim)\n",
    "    self.value_dense = layers.Dense(embed_dim)\n",
    "    self.combine_heads = layers.Dense(embed_dim)\n",
    "    \n",
    "  def separate_heads(self, x, batch_size):\n",
    "    x = tf.reshape(x, (batch_size, -1, self.num_heads, self.projection_dim))\n",
    "    return tf.transpose(x, perm = [0, 2, 1, 3])\n",
    "  \n",
    "  def call(self, inputs):\n",
    "    batch_size = tf.shape(inputs)[0]\n",
    "    \n",
    "    # # # For the QKV\n",
    "    query = self.separate_heads(self.query_dense(inputs), batch_size)\n",
    "    key = self.separate_heads(self.key_dense(inputs), batch_size)\n",
    "    value = self.separate_heads(self.value_dense(inputs), batch_size)\n",
    "    \n",
    "    # self attention\n",
    "    score = tf.matmul(query, key, transpose_b=True)\n",
    "    dim_key = tf.cast(tf.shape(key)[-1], tf.float32)\n",
    "    scaled_score = score / tf.math.sqrt(dim_key)\n",
    "    weights = tf.nn.softmax(scaled_score, axis =-1)\n",
    "    attention = tf.matmul(weights, value)\n",
    "    \n",
    "    # # # The Output\n",
    "    attention = tf.transpose(attention, perm = [0, 2, 1, 3])\n",
    "    concat_attention = tf.reshape(attention, (batch_size, -1, self.embed_dim))\n",
    "    return self.combine_heads(concat_attention)\n",
    "\n",
    "class TransformerBlock(layers.Layer):\n",
    "  def __init__(self, embed_dim, num_heads, ff_dim, rate = 0.1):\n",
    "    super(TransformerBlock, self).__init__()\n",
    "    self.att = MultiHeadSelfAttention(embed_dim, num_heads)\n",
    "    self.ffn = keras.Sequential(\n",
    "      [layers.Dense(ff_dim, activation=\"relu\"),\n",
    "       layers.Dense(embed_dim),]\n",
    "    )\n",
    "    self.layernorm1 = layers.LayerNormalization(epsilon = 1e-6)\n",
    "    self.layernorm2 = layers.LayerNormalization(epsilon = 1e-6)\n",
    "    self.dropout1 = layers.Dropout(rate)\n",
    "    self.dropout2 = layers.Dropout(rate)\n",
    "\n",
    "  def call(self, inputs, training):\n",
    "    attn_output = self.att(inputs)\n",
    "    attn_output = self.dropout1(attn_output, training=training)\n",
    "    out1 = self.layernorm1(inputs + attn_output)\n",
    "    ffn_output = self.ffn(out1)\n",
    "    ffn_output = self.dropout2(ffn_output, training=training)\n",
    "    return self.layernorm2(out1 + ffn_output)\n",
    "  \n",
    "class TokenAndPositionEmbedding(layers.Layer):\n",
    "  def __init__(self, maxlen, vocab_size, embed_dim):\n",
    "    super(TokenAndPositionEmbedding, self).__init__()\n",
    "    self.token_emb = layers.Embedding(input_dim = vocab_size, output_dim = embed_dim)\n",
    "    self.pos_emb = layers.Embedding(input_dim = maxlen, output_dim = embed_dim)\n",
    "\n",
    "  def call(self, x):\n",
    "    positions = tf.range(start = 0, limit = tf.shape(x)[-1], delta = 1)\n",
    "    positions = self.pos_emb(positions)\n",
    "    x = self.token_emb(x)\n",
    "    return x + positions"
   ]
  },
  {
   "cell_type": "code",
   "execution_count": 3,
   "metadata": {},
   "outputs": [],
   "source": [
    "# # # Makes the dataset\n",
    "def make_dataset():\n",
    "  ret = []\n",
    "  for i in range(100):\n",
    "    for j in range(100):\n",
    "      s = i+j\n",
    "      ret.append([i//10, i%10, j//10, j%10, s//100, (s//10)%10, s%10])\n",
    "  return ret\n",
    "ds = make_dataset()\n",
    "random.shuffle(ds)\n",
    "ds = np.array(ds)\n",
    "ds_X = ds[:, 0:6]\n",
    "ds_Y = np.copy(ds[:, 1:])\n",
    "ds_X_train, ds_X_test = ds_X[0:8000], ds_X[8000:]\n",
    "ds_Y_train, ds_Y_test = ds_Y[0:8000], ds_Y[8000:]"
   ]
  },
  {
   "cell_type": "code",
   "execution_count": 4,
   "metadata": {},
   "outputs": [],
   "source": [
    "maxlen = 10\n",
    "x = in1 = layers.Input(shape=(6,))\n",
    "x = TokenAndPositionEmbedding(maxlen, 10, 128)(x)\n",
    "x = TransformerBlock(128, 4, 32)(x)\n",
    "x = TransformerBlock(128, 4, 32)(x)\n",
    "x = layers.Dense(10)(x)\n",
    "x = layers.Softmax()(x)\n",
    "model = keras.Model(in1, x)\n",
    "model.compile(optimizer = 'adam', loss = 'sparse_categorical_crossentropy')"
   ]
  },
  {
   "cell_type": "code",
   "execution_count": 5,
   "metadata": {},
   "outputs": [
    {
     "name": "stdout",
     "output_type": "stream",
     "text": [
      "Model: \"model\"\n",
      "_________________________________________________________________\n",
      "Layer (type)                 Output Shape              Param #   \n",
      "=================================================================\n",
      "input_1 (InputLayer)         [(None, 6)]               0         \n",
      "_________________________________________________________________\n",
      "token_and_position_embedding (None, 6, 128)            2560      \n",
      "_________________________________________________________________\n",
      "transformer_block (Transform (None, 6, 128)            74912     \n",
      "_________________________________________________________________\n",
      "transformer_block_1 (Transfo (None, 6, 128)            74912     \n",
      "_________________________________________________________________\n",
      "dense_12 (Dense)             (None, 6, 10)             1290      \n",
      "_________________________________________________________________\n",
      "softmax (Softmax)            (None, 6, 10)             0         \n",
      "=================================================================\n",
      "Total params: 153,674\n",
      "Trainable params: 153,674\n",
      "Non-trainable params: 0\n",
      "_________________________________________________________________\n"
     ]
    }
   ],
   "source": [
    "model.summary()"
   ]
  },
  {
   "cell_type": "code",
   "execution_count": 6,
   "metadata": {},
   "outputs": [
    {
     "name": "stdout",
     "output_type": "stream",
     "text": [
      "Epoch 1/5\n",
      "250/250 [==============================] - 5s 14ms/step - loss: 0.5117\n",
      "Epoch 2/5\n",
      "250/250 [==============================] - 3s 12ms/step - loss: 0.0748\n",
      "Epoch 3/5\n",
      "250/250 [==============================] - 3s 12ms/step - loss: 0.0082\n",
      "Epoch 4/5\n",
      "250/250 [==============================] - 3s 13ms/step - loss: 8.3969e-04\n",
      "Epoch 5/5\n",
      "250/250 [==============================] - 3s 12ms/step - loss: 0.0142\n"
     ]
    },
    {
     "data": {
      "text/plain": [
       "<keras.callbacks.History at 0x1cc50e82eb0>"
      ]
     },
     "execution_count": 6,
     "metadata": {},
     "output_type": "execute_result"
    }
   ],
   "source": [
    "model.fit(ds_X_train, ds_Y_train, epochs = 5, verbose = 1)"
   ]
  },
  {
   "cell_type": "code",
   "execution_count": 7,
   "metadata": {},
   "outputs": [
    {
     "data": {
      "text/plain": [
       "(2000, (2000,))"
      ]
     },
     "execution_count": 7,
     "metadata": {},
     "output_type": "execute_result"
    }
   ],
   "source": [
    "aa = model.predict(ds_X_test)\n",
    "correct = ds_Y_test[:, -1] == np.argmax(aa, axis=2)[:, -1]\n",
    "sum(correct), correct.shape\n",
    "# Ehhhh, getting there"
   ]
  }
 ],
 "metadata": {
  "kernelspec": {
   "display_name": "Python 3",
   "language": "python",
   "name": "python3"
  },
  "language_info": {
   "codemirror_mode": {
    "name": "ipython",
    "version": 3
   },
   "file_extension": ".py",
   "mimetype": "text/x-python",
   "name": "python",
   "nbconvert_exporter": "python",
   "pygments_lexer": "ipython3",
   "version": "3.8.5"
  }
 },
 "nbformat": 4,
 "nbformat_minor": 4
}
